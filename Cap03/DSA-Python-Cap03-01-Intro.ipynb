{
 "cells": [
  {
   "cell_type": "markdown",
   "metadata": {},
   "source": [
    "# <font color='blue'>Data Science Academy</font>\n",
    "\n",
    "## <font color='blue'>Fundamentos de Linguagem Python Para Análise de Dados e Data Science</font>\n",
    "\n",
    "## <font color='blue'>Capítulo 3 - Introdução à Lógica de Programação</font>"
   ]
  },
  {
   "cell_type": "code",
   "execution_count": 1,
   "metadata": {},
   "outputs": [
    {
     "name": "stdout",
     "output_type": "stream",
     "text": [
      "Versão da Linguagem Python Usada Neste Jupyter Notebook: 3.9.13\n"
     ]
    }
   ],
   "source": [
    "# Versão da Linguagem Python\n",
    "from platform import python_version\n",
    "print('Versão da Linguagem Python Usada Neste Jupyter Notebook:', python_version())"
   ]
  },
  {
   "cell_type": "markdown",
   "metadata": {},
   "source": [
    "#### Pressione as teclas shift e enter para executar o código em uma célula ou pressione o botão Run no menu superior."
   ]
  },
  {
   "cell_type": "markdown",
   "metadata": {},
   "source": [
    "## Pseudocódigo 1 - Calcular a Área de Um Paralelograma\n",
    "\n",
    "Nota: Um paralelogramo é um quadrilátero com lados opostos paralelos (e portanto ângulos opostos iguais). Um quadrilátero com lados iguais é chamado de losango e um paralelogramo cujos ângulos são todos ângulos retos é chamado de retângulo."
   ]
  },
  {
   "cell_type": "markdown",
   "metadata": {},
   "source": [
    "Inicie\n",
    "    \n",
    "    Exiba \"Bem-vindo ao Calculador de Área de Paralelogramo\"\n",
    "    Peça para o usuário inserir o comprimento da base\n",
    "    Armazene o comprimento da base em uma variável\n",
    "    Peça para o usuário inserir a altura\n",
    "    Armazene a altura em uma variável\n",
    "    Calcule a área do paralelogramo:  base * altura\n",
    "    Armazene o resultado em uma variável\n",
    "    Exiba o resultado\n",
    "    \n",
    "Fim\n"
   ]
  },
  {
   "cell_type": "markdown",
   "metadata": {},
   "source": [
    "## Convertendo o Pseudocódigo 1 em Programa Python"
   ]
  },
  {
   "cell_type": "code",
   "execution_count": 2,
   "metadata": {},
   "outputs": [
    {
     "name": "stdout",
     "output_type": "stream",
     "text": [
      "Bem-vindo ao Calculador de Área de Paralelogramo\n"
     ]
    }
   ],
   "source": [
    "print(\"Bem-vindo ao Calculador de Área de Paralelogramo\")"
   ]
  },
  {
   "cell_type": "code",
   "execution_count": 3,
   "metadata": {},
   "outputs": [
    {
     "name": "stdout",
     "output_type": "stream",
     "text": [
      "Insira o comprimento da base: 4\n"
     ]
    }
   ],
   "source": [
    "base = float(input(\"Insira o comprimento da base: \"))"
   ]
  },
  {
   "cell_type": "code",
   "execution_count": 4,
   "metadata": {},
   "outputs": [
    {
     "name": "stdout",
     "output_type": "stream",
     "text": [
      "Insira a altura: 7\n"
     ]
    }
   ],
   "source": [
    "altura = float(input(\"Insira a altura: \"))"
   ]
  },
  {
   "cell_type": "code",
   "execution_count": 5,
   "metadata": {},
   "outputs": [],
   "source": [
    "area = base * altura"
   ]
  },
  {
   "cell_type": "code",
   "execution_count": 6,
   "metadata": {},
   "outputs": [
    {
     "name": "stdout",
     "output_type": "stream",
     "text": [
      "A área do paralelogramo é:  28.0\n"
     ]
    }
   ],
   "source": [
    "print(\"A área do paralelogramo é: \", area)"
   ]
  },
  {
   "cell_type": "markdown",
   "metadata": {},
   "source": [
    "## Pseudocódigo 2 - Calculadora Simples"
   ]
  },
  {
   "cell_type": "markdown",
   "metadata": {},
   "source": [
    "\n",
    "Inicie\n",
    "\n",
    "    Exiba \"Bem-vindo à Calculadora\"\n",
    "    Peça para o usuário inserir o primeiro número\n",
    "    Armazene o primeiro número em uma variável\n",
    "    Peça para o usuário inserir o segundo número\n",
    "    Armazene o segundo número em uma variável\n",
    "    Peça para o usuário selecionar uma operação (+, -, *, /)\n",
    "    Armazene a operação em uma variável\n",
    "    Utilize a operação selecionada e os números armazenados para realizar o cálculo\n",
    "    Exiba o resultado\n",
    "\n",
    "Fim\n"
   ]
  },
  {
   "cell_type": "markdown",
   "metadata": {},
   "source": [
    "## Convertendo o Pseudocódigo 2 em Programa Python"
   ]
  },
  {
   "cell_type": "code",
   "execution_count": 7,
   "metadata": {},
   "outputs": [
    {
     "name": "stdout",
     "output_type": "stream",
     "text": [
      "Bem-vindo à Calculadora\n"
     ]
    }
   ],
   "source": [
    "print(\"Bem-vindo à Calculadora\")"
   ]
  },
  {
   "cell_type": "code",
   "execution_count": 8,
   "metadata": {},
   "outputs": [
    {
     "name": "stdout",
     "output_type": "stream",
     "text": [
      "Insira o primeiro número: 3\n"
     ]
    }
   ],
   "source": [
    "num1 = float(input(\"Insira o primeiro número: \"))"
   ]
  },
  {
   "cell_type": "code",
   "execution_count": 9,
   "metadata": {},
   "outputs": [
    {
     "name": "stdout",
     "output_type": "stream",
     "text": [
      "Insira o segundo número: 4\n"
     ]
    }
   ],
   "source": [
    "num2 = float(input(\"Insira o segundo número: \"))"
   ]
  },
  {
   "cell_type": "code",
   "execution_count": 10,
   "metadata": {},
   "outputs": [
    {
     "name": "stdout",
     "output_type": "stream",
     "text": [
      "Selecione uma operação (+, -, *, /): *\n"
     ]
    }
   ],
   "source": [
    "operacao = input(\"Selecione uma operação (+, -, *, /): \")"
   ]
  },
  {
   "cell_type": "code",
   "execution_count": 11,
   "metadata": {},
   "outputs": [
    {
     "name": "stdout",
     "output_type": "stream",
     "text": [
      "O resultado é:  12.0\n"
     ]
    }
   ],
   "source": [
    "if operacao == \"+\":\n",
    "    resultado = num1 + num2\n",
    "    print(\"O resultado é: \", resultado)\n",
    "\n",
    "elif operacao == \"-\":\n",
    "    resultado = num1 - num2\n",
    "    print(\"O resultado é: \", resultado)\n",
    "\n",
    "elif operacao == \"*\":\n",
    "    resultado = num1 * num2\n",
    "    print(\"O resultado é: \", resultado)\n",
    "    \n",
    "elif operacao == \"/\":\n",
    "    resultado = num1 / num2\n",
    "    print(\"O resultado é: \", resultado)\n",
    "\n",
    "else:\n",
    "    print(\"Operação inválida.\")"
   ]
  },
  {
   "cell_type": "markdown",
   "metadata": {},
   "source": [
    "## Pseudocódigo 3 - Algoritmo Bubble Sort\n",
    "\n",
    "Bubble Sort é um algoritmo de ordenação simples que funciona comparando cada elemento com o próximo, e trocando-os de lugar se eles estiverem em ordem incorreta. O algoritmo repete esse processo várias vezes, até que todos os elementos estejam ordenados. A cada passagem, o maior elemento \"flutua\" para o final do array, como uma bolha, dando origem ao nome do algoritmo."
   ]
  },
  {
   "cell_type": "markdown",
   "metadata": {},
   "source": [
    "Inicie\n",
    "    \n",
    "    Para cada elemento i no array de tamanho n\n",
    "        Para cada elemento j no array de tamanho n - 1\n",
    "            Se elemento i for maior que elemento j\n",
    "                Troque os elementos i e j\n",
    "    Exiba o array ordenado\n",
    "\n",
    "Fim"
   ]
  },
  {
   "cell_type": "code",
   "execution_count": 12,
   "metadata": {},
   "outputs": [],
   "source": [
    "# Considere esta lista como exemplo para ordenação com o Bubble sort\n",
    "lista = [6, 3, 12, 7]"
   ]
  },
  {
   "cell_type": "code",
   "execution_count": 13,
   "metadata": {},
   "outputs": [],
   "source": [
    "# Primeira passada do algoritmo (troca os elementos 6 e 3 de lugar)\n",
    "lista = [3, 6, 12, 7]"
   ]
  },
  {
   "cell_type": "code",
   "execution_count": 14,
   "metadata": {},
   "outputs": [],
   "source": [
    "# Segunda passada do algoritmo (não tem troca entre 6 e 12)\n",
    "lista = [3, 6, 12, 7]"
   ]
  },
  {
   "cell_type": "code",
   "execution_count": 15,
   "metadata": {},
   "outputs": [],
   "source": [
    "# Terceira passada do algoritmo (troca os elementos 12 e7 de lugar)\n",
    "lista = [3, 6, 7, 12]"
   ]
  },
  {
   "cell_type": "markdown",
   "metadata": {},
   "source": [
    "## Convertendo o Pseudocódigo 3 em Programa Python"
   ]
  },
  {
   "cell_type": "code",
   "execution_count": 1,
   "metadata": {},
   "outputs": [],
   "source": [
    "lista = [6,7,8,3,10,19,4,1,0,61,30,16,17,82,29,34,43,21,11,39,56,67,12]"
   ]
  },
  {
   "cell_type": "code",
   "execution_count": 10,
   "metadata": {},
   "outputs": [],
   "source": [
    "def bubble_sort(arr):\n",
    "    \n",
    "    n = len(arr)\n",
    "    \n",
    "    # Para cada elemento i do array\n",
    "    for i in range(n):\n",
    "\n",
    "        # Para cada elemento j do array\n",
    "        for j in range(0, n-i-1):\n",
    "        \n",
    "            # Se elemento i for maior que elemento j\n",
    "            if arr[j] > arr[j+1]:\n",
    "            \n",
    "                # Troque os elementos i e j\n",
    "                arr[j], arr[j+1] = arr[j+1], arr[j]\n",
    "    \n",
    "    return arr"
   ]
  },
  {
   "cell_type": "code",
   "execution_count": 7,
   "metadata": {},
   "outputs": [
    {
     "name": "stdout",
     "output_type": "stream",
     "text": [
      "i vale  0\n",
      "j vale  0\n",
      "j vale  1\n",
      "A lista nessa iteração é  [6, 3, 7, 8, 10, 19, 4, 1, 0, 61, 30, 16, 17, 82, 29, 34, 43, 21, 11, 39, 56, 67, 12]\n",
      "j vale  2\n",
      "j vale  3\n",
      "j vale  4\n",
      "j vale  5\n",
      "A lista nessa iteração é  [6, 3, 7, 8, 10, 4, 19, 1, 0, 61, 30, 16, 17, 82, 29, 34, 43, 21, 11, 39, 56, 67, 12]\n",
      "j vale  6\n",
      "A lista nessa iteração é  [6, 3, 7, 8, 10, 4, 1, 19, 0, 61, 30, 16, 17, 82, 29, 34, 43, 21, 11, 39, 56, 67, 12]\n",
      "j vale  7\n",
      "A lista nessa iteração é  [6, 3, 7, 8, 10, 4, 1, 0, 19, 61, 30, 16, 17, 82, 29, 34, 43, 21, 11, 39, 56, 67, 12]\n",
      "j vale  8\n",
      "j vale  9\n",
      "A lista nessa iteração é  [6, 3, 7, 8, 10, 4, 1, 0, 19, 30, 61, 16, 17, 82, 29, 34, 43, 21, 11, 39, 56, 67, 12]\n",
      "j vale  10\n",
      "A lista nessa iteração é  [6, 3, 7, 8, 10, 4, 1, 0, 19, 30, 16, 61, 17, 82, 29, 34, 43, 21, 11, 39, 56, 67, 12]\n",
      "j vale  11\n",
      "A lista nessa iteração é  [6, 3, 7, 8, 10, 4, 1, 0, 19, 30, 16, 17, 61, 82, 29, 34, 43, 21, 11, 39, 56, 67, 12]\n",
      "j vale  12\n",
      "j vale  13\n",
      "A lista nessa iteração é  [6, 3, 7, 8, 10, 4, 1, 0, 19, 30, 16, 17, 61, 29, 82, 34, 43, 21, 11, 39, 56, 67, 12]\n",
      "j vale  14\n",
      "A lista nessa iteração é  [6, 3, 7, 8, 10, 4, 1, 0, 19, 30, 16, 17, 61, 29, 34, 82, 43, 21, 11, 39, 56, 67, 12]\n",
      "j vale  15\n",
      "A lista nessa iteração é  [6, 3, 7, 8, 10, 4, 1, 0, 19, 30, 16, 17, 61, 29, 34, 43, 82, 21, 11, 39, 56, 67, 12]\n",
      "j vale  16\n",
      "A lista nessa iteração é  [6, 3, 7, 8, 10, 4, 1, 0, 19, 30, 16, 17, 61, 29, 34, 43, 21, 82, 11, 39, 56, 67, 12]\n",
      "j vale  17\n",
      "A lista nessa iteração é  [6, 3, 7, 8, 10, 4, 1, 0, 19, 30, 16, 17, 61, 29, 34, 43, 21, 11, 82, 39, 56, 67, 12]\n",
      "j vale  18\n",
      "A lista nessa iteração é  [6, 3, 7, 8, 10, 4, 1, 0, 19, 30, 16, 17, 61, 29, 34, 43, 21, 11, 39, 82, 56, 67, 12]\n",
      "j vale  19\n",
      "A lista nessa iteração é  [6, 3, 7, 8, 10, 4, 1, 0, 19, 30, 16, 17, 61, 29, 34, 43, 21, 11, 39, 56, 82, 67, 12]\n",
      "j vale  20\n",
      "A lista nessa iteração é  [6, 3, 7, 8, 10, 4, 1, 0, 19, 30, 16, 17, 61, 29, 34, 43, 21, 11, 39, 56, 67, 82, 12]\n",
      "j vale  21\n",
      "A lista nessa iteração é  [6, 3, 7, 8, 10, 4, 1, 0, 19, 30, 16, 17, 61, 29, 34, 43, 21, 11, 39, 56, 67, 12, 82]\n",
      "i vale  1\n",
      "j vale  0\n",
      "A lista nessa iteração é  [3, 6, 7, 8, 10, 4, 1, 0, 19, 30, 16, 17, 61, 29, 34, 43, 21, 11, 39, 56, 67, 12, 82]\n",
      "j vale  1\n",
      "j vale  2\n",
      "j vale  3\n",
      "j vale  4\n",
      "A lista nessa iteração é  [3, 6, 7, 8, 4, 10, 1, 0, 19, 30, 16, 17, 61, 29, 34, 43, 21, 11, 39, 56, 67, 12, 82]\n",
      "j vale  5\n",
      "A lista nessa iteração é  [3, 6, 7, 8, 4, 1, 10, 0, 19, 30, 16, 17, 61, 29, 34, 43, 21, 11, 39, 56, 67, 12, 82]\n",
      "j vale  6\n",
      "A lista nessa iteração é  [3, 6, 7, 8, 4, 1, 0, 10, 19, 30, 16, 17, 61, 29, 34, 43, 21, 11, 39, 56, 67, 12, 82]\n",
      "j vale  7\n",
      "j vale  8\n",
      "j vale  9\n",
      "A lista nessa iteração é  [3, 6, 7, 8, 4, 1, 0, 10, 19, 16, 30, 17, 61, 29, 34, 43, 21, 11, 39, 56, 67, 12, 82]\n",
      "j vale  10\n",
      "A lista nessa iteração é  [3, 6, 7, 8, 4, 1, 0, 10, 19, 16, 17, 30, 61, 29, 34, 43, 21, 11, 39, 56, 67, 12, 82]\n",
      "j vale  11\n",
      "j vale  12\n",
      "A lista nessa iteração é  [3, 6, 7, 8, 4, 1, 0, 10, 19, 16, 17, 30, 29, 61, 34, 43, 21, 11, 39, 56, 67, 12, 82]\n",
      "j vale  13\n",
      "A lista nessa iteração é  [3, 6, 7, 8, 4, 1, 0, 10, 19, 16, 17, 30, 29, 34, 61, 43, 21, 11, 39, 56, 67, 12, 82]\n",
      "j vale  14\n",
      "A lista nessa iteração é  [3, 6, 7, 8, 4, 1, 0, 10, 19, 16, 17, 30, 29, 34, 43, 61, 21, 11, 39, 56, 67, 12, 82]\n",
      "j vale  15\n",
      "A lista nessa iteração é  [3, 6, 7, 8, 4, 1, 0, 10, 19, 16, 17, 30, 29, 34, 43, 21, 61, 11, 39, 56, 67, 12, 82]\n",
      "j vale  16\n",
      "A lista nessa iteração é  [3, 6, 7, 8, 4, 1, 0, 10, 19, 16, 17, 30, 29, 34, 43, 21, 11, 61, 39, 56, 67, 12, 82]\n",
      "j vale  17\n",
      "A lista nessa iteração é  [3, 6, 7, 8, 4, 1, 0, 10, 19, 16, 17, 30, 29, 34, 43, 21, 11, 39, 61, 56, 67, 12, 82]\n",
      "j vale  18\n",
      "A lista nessa iteração é  [3, 6, 7, 8, 4, 1, 0, 10, 19, 16, 17, 30, 29, 34, 43, 21, 11, 39, 56, 61, 67, 12, 82]\n",
      "j vale  19\n",
      "j vale  20\n",
      "A lista nessa iteração é  [3, 6, 7, 8, 4, 1, 0, 10, 19, 16, 17, 30, 29, 34, 43, 21, 11, 39, 56, 61, 12, 67, 82]\n",
      "i vale  2\n",
      "j vale  0\n",
      "j vale  1\n",
      "j vale  2\n",
      "j vale  3\n",
      "A lista nessa iteração é  [3, 6, 7, 4, 8, 1, 0, 10, 19, 16, 17, 30, 29, 34, 43, 21, 11, 39, 56, 61, 12, 67, 82]\n",
      "j vale  4\n",
      "A lista nessa iteração é  [3, 6, 7, 4, 1, 8, 0, 10, 19, 16, 17, 30, 29, 34, 43, 21, 11, 39, 56, 61, 12, 67, 82]\n",
      "j vale  5\n",
      "A lista nessa iteração é  [3, 6, 7, 4, 1, 0, 8, 10, 19, 16, 17, 30, 29, 34, 43, 21, 11, 39, 56, 61, 12, 67, 82]\n",
      "j vale  6\n",
      "j vale  7\n",
      "j vale  8\n",
      "A lista nessa iteração é  [3, 6, 7, 4, 1, 0, 8, 10, 16, 19, 17, 30, 29, 34, 43, 21, 11, 39, 56, 61, 12, 67, 82]\n",
      "j vale  9\n",
      "A lista nessa iteração é  [3, 6, 7, 4, 1, 0, 8, 10, 16, 17, 19, 30, 29, 34, 43, 21, 11, 39, 56, 61, 12, 67, 82]\n",
      "j vale  10\n",
      "j vale  11\n",
      "A lista nessa iteração é  [3, 6, 7, 4, 1, 0, 8, 10, 16, 17, 19, 29, 30, 34, 43, 21, 11, 39, 56, 61, 12, 67, 82]\n",
      "j vale  12\n",
      "j vale  13\n",
      "j vale  14\n",
      "A lista nessa iteração é  [3, 6, 7, 4, 1, 0, 8, 10, 16, 17, 19, 29, 30, 34, 21, 43, 11, 39, 56, 61, 12, 67, 82]\n",
      "j vale  15\n",
      "A lista nessa iteração é  [3, 6, 7, 4, 1, 0, 8, 10, 16, 17, 19, 29, 30, 34, 21, 11, 43, 39, 56, 61, 12, 67, 82]\n",
      "j vale  16\n",
      "A lista nessa iteração é  [3, 6, 7, 4, 1, 0, 8, 10, 16, 17, 19, 29, 30, 34, 21, 11, 39, 43, 56, 61, 12, 67, 82]\n",
      "j vale  17\n",
      "j vale  18\n",
      "j vale  19\n",
      "A lista nessa iteração é  [3, 6, 7, 4, 1, 0, 8, 10, 16, 17, 19, 29, 30, 34, 21, 11, 39, 43, 56, 12, 61, 67, 82]\n",
      "i vale  3\n",
      "j vale  0\n",
      "j vale  1\n",
      "j vale  2\n",
      "A lista nessa iteração é  [3, 6, 4, 7, 1, 0, 8, 10, 16, 17, 19, 29, 30, 34, 21, 11, 39, 43, 56, 12, 61, 67, 82]\n",
      "j vale  3\n",
      "A lista nessa iteração é  [3, 6, 4, 1, 7, 0, 8, 10, 16, 17, 19, 29, 30, 34, 21, 11, 39, 43, 56, 12, 61, 67, 82]\n",
      "j vale  4\n",
      "A lista nessa iteração é  [3, 6, 4, 1, 0, 7, 8, 10, 16, 17, 19, 29, 30, 34, 21, 11, 39, 43, 56, 12, 61, 67, 82]\n",
      "j vale  5\n",
      "j vale  6\n",
      "j vale  7\n",
      "j vale  8\n",
      "j vale  9\n",
      "j vale  10\n",
      "j vale  11\n",
      "j vale  12\n",
      "j vale  13\n",
      "A lista nessa iteração é  [3, 6, 4, 1, 0, 7, 8, 10, 16, 17, 19, 29, 30, 21, 34, 11, 39, 43, 56, 12, 61, 67, 82]\n",
      "j vale  14\n",
      "A lista nessa iteração é  [3, 6, 4, 1, 0, 7, 8, 10, 16, 17, 19, 29, 30, 21, 11, 34, 39, 43, 56, 12, 61, 67, 82]\n",
      "j vale  15\n",
      "j vale  16\n",
      "j vale  17\n",
      "j vale  18\n",
      "A lista nessa iteração é  [3, 6, 4, 1, 0, 7, 8, 10, 16, 17, 19, 29, 30, 21, 11, 34, 39, 43, 12, 56, 61, 67, 82]\n",
      "i vale  4\n",
      "j vale  0\n",
      "j vale  1\n",
      "A lista nessa iteração é  [3, 4, 6, 1, 0, 7, 8, 10, 16, 17, 19, 29, 30, 21, 11, 34, 39, 43, 12, 56, 61, 67, 82]\n",
      "j vale  2\n",
      "A lista nessa iteração é  [3, 4, 1, 6, 0, 7, 8, 10, 16, 17, 19, 29, 30, 21, 11, 34, 39, 43, 12, 56, 61, 67, 82]\n",
      "j vale  3\n",
      "A lista nessa iteração é  [3, 4, 1, 0, 6, 7, 8, 10, 16, 17, 19, 29, 30, 21, 11, 34, 39, 43, 12, 56, 61, 67, 82]\n",
      "j vale  4\n",
      "j vale  5\n",
      "j vale  6\n",
      "j vale  7\n",
      "j vale  8\n",
      "j vale  9\n",
      "j vale  10\n",
      "j vale  11\n",
      "j vale  12\n",
      "A lista nessa iteração é  [3, 4, 1, 0, 6, 7, 8, 10, 16, 17, 19, 29, 21, 30, 11, 34, 39, 43, 12, 56, 61, 67, 82]\n",
      "j vale  13\n",
      "A lista nessa iteração é  [3, 4, 1, 0, 6, 7, 8, 10, 16, 17, 19, 29, 21, 11, 30, 34, 39, 43, 12, 56, 61, 67, 82]\n",
      "j vale  14\n",
      "j vale  15\n",
      "j vale  16\n",
      "j vale  17\n",
      "A lista nessa iteração é  [3, 4, 1, 0, 6, 7, 8, 10, 16, 17, 19, 29, 21, 11, 30, 34, 39, 12, 43, 56, 61, 67, 82]\n",
      "i vale  5\n",
      "j vale  0\n",
      "j vale  1\n",
      "A lista nessa iteração é  [3, 1, 4, 0, 6, 7, 8, 10, 16, 17, 19, 29, 21, 11, 30, 34, 39, 12, 43, 56, 61, 67, 82]\n",
      "j vale  2\n",
      "A lista nessa iteração é  [3, 1, 0, 4, 6, 7, 8, 10, 16, 17, 19, 29, 21, 11, 30, 34, 39, 12, 43, 56, 61, 67, 82]\n",
      "j vale  3\n",
      "j vale  4\n",
      "j vale  5\n",
      "j vale  6\n",
      "j vale  7\n",
      "j vale  8\n",
      "j vale  9\n",
      "j vale  10\n",
      "j vale  11\n",
      "A lista nessa iteração é  [3, 1, 0, 4, 6, 7, 8, 10, 16, 17, 19, 21, 29, 11, 30, 34, 39, 12, 43, 56, 61, 67, 82]\n",
      "j vale  12\n",
      "A lista nessa iteração é  [3, 1, 0, 4, 6, 7, 8, 10, 16, 17, 19, 21, 11, 29, 30, 34, 39, 12, 43, 56, 61, 67, 82]\n",
      "j vale  13\n",
      "j vale  14\n",
      "j vale  15\n",
      "j vale  16\n",
      "A lista nessa iteração é  [3, 1, 0, 4, 6, 7, 8, 10, 16, 17, 19, 21, 11, 29, 30, 34, 12, 39, 43, 56, 61, 67, 82]\n",
      "i vale  6\n",
      "j vale  0\n",
      "A lista nessa iteração é  [1, 3, 0, 4, 6, 7, 8, 10, 16, 17, 19, 21, 11, 29, 30, 34, 12, 39, 43, 56, 61, 67, 82]\n",
      "j vale  1\n",
      "A lista nessa iteração é  [1, 0, 3, 4, 6, 7, 8, 10, 16, 17, 19, 21, 11, 29, 30, 34, 12, 39, 43, 56, 61, 67, 82]\n",
      "j vale  2\n",
      "j vale  3\n",
      "j vale  4\n",
      "j vale  5\n",
      "j vale  6\n",
      "j vale  7\n",
      "j vale  8\n",
      "j vale  9\n",
      "j vale  10\n",
      "j vale  11\n",
      "A lista nessa iteração é  [1, 0, 3, 4, 6, 7, 8, 10, 16, 17, 19, 11, 21, 29, 30, 34, 12, 39, 43, 56, 61, 67, 82]\n",
      "j vale  12\n",
      "j vale  13\n",
      "j vale  14\n",
      "j vale  15\n",
      "A lista nessa iteração é  [1, 0, 3, 4, 6, 7, 8, 10, 16, 17, 19, 11, 21, 29, 30, 12, 34, 39, 43, 56, 61, 67, 82]\n",
      "i vale  7\n",
      "j vale  0\n",
      "A lista nessa iteração é  [0, 1, 3, 4, 6, 7, 8, 10, 16, 17, 19, 11, 21, 29, 30, 12, 34, 39, 43, 56, 61, 67, 82]\n",
      "j vale  1\n",
      "j vale  2\n",
      "j vale  3\n",
      "j vale  4\n",
      "j vale  5\n",
      "j vale  6\n",
      "j vale  7\n",
      "j vale  8\n",
      "j vale  9\n",
      "j vale  10\n",
      "A lista nessa iteração é  [0, 1, 3, 4, 6, 7, 8, 10, 16, 17, 11, 19, 21, 29, 30, 12, 34, 39, 43, 56, 61, 67, 82]\n",
      "j vale  11\n",
      "j vale  12\n",
      "j vale  13\n",
      "j vale  14\n",
      "A lista nessa iteração é  [0, 1, 3, 4, 6, 7, 8, 10, 16, 17, 11, 19, 21, 29, 12, 30, 34, 39, 43, 56, 61, 67, 82]\n",
      "i vale  8\n",
      "j vale  0\n",
      "j vale  1\n",
      "j vale  2\n",
      "j vale  3\n",
      "j vale  4\n",
      "j vale  5\n",
      "j vale  6\n",
      "j vale  7\n",
      "j vale  8\n",
      "j vale  9\n",
      "A lista nessa iteração é  [0, 1, 3, 4, 6, 7, 8, 10, 16, 11, 17, 19, 21, 29, 12, 30, 34, 39, 43, 56, 61, 67, 82]\n",
      "j vale  10\n",
      "j vale  11\n",
      "j vale  12\n",
      "j vale  13\n",
      "A lista nessa iteração é  [0, 1, 3, 4, 6, 7, 8, 10, 16, 11, 17, 19, 21, 12, 29, 30, 34, 39, 43, 56, 61, 67, 82]\n",
      "i vale  9\n",
      "j vale  0\n",
      "j vale  1\n",
      "j vale  2\n",
      "j vale  3\n",
      "j vale  4\n",
      "j vale  5\n",
      "j vale  6\n",
      "j vale  7\n",
      "j vale  8\n",
      "A lista nessa iteração é  [0, 1, 3, 4, 6, 7, 8, 10, 11, 16, 17, 19, 21, 12, 29, 30, 34, 39, 43, 56, 61, 67, 82]\n",
      "j vale  9\n",
      "j vale  10\n",
      "j vale  11\n",
      "j vale  12\n",
      "A lista nessa iteração é  [0, 1, 3, 4, 6, 7, 8, 10, 11, 16, 17, 19, 12, 21, 29, 30, 34, 39, 43, 56, 61, 67, 82]\n",
      "i vale  10\n",
      "j vale  0\n",
      "j vale  1\n",
      "j vale  2\n",
      "j vale  3\n",
      "j vale  4\n",
      "j vale  5\n",
      "j vale  6\n",
      "j vale  7\n",
      "j vale  8\n",
      "j vale  9\n",
      "j vale  10\n",
      "j vale  11\n",
      "A lista nessa iteração é  [0, 1, 3, 4, 6, 7, 8, 10, 11, 16, 17, 12, 19, 21, 29, 30, 34, 39, 43, 56, 61, 67, 82]\n",
      "i vale  11\n",
      "j vale  0\n",
      "j vale  1\n",
      "j vale  2\n",
      "j vale  3\n",
      "j vale  4\n",
      "j vale  5\n",
      "j vale  6\n",
      "j vale  7\n",
      "j vale  8\n",
      "j vale  9\n",
      "j vale  10\n",
      "A lista nessa iteração é  [0, 1, 3, 4, 6, 7, 8, 10, 11, 16, 12, 17, 19, 21, 29, 30, 34, 39, 43, 56, 61, 67, 82]\n",
      "i vale  12\n",
      "j vale  0\n",
      "j vale  1\n",
      "j vale  2\n",
      "j vale  3\n",
      "j vale  4\n",
      "j vale  5\n",
      "j vale  6\n",
      "j vale  7\n",
      "j vale  8\n",
      "j vale  9\n",
      "A lista nessa iteração é  [0, 1, 3, 4, 6, 7, 8, 10, 11, 12, 16, 17, 19, 21, 29, 30, 34, 39, 43, 56, 61, 67, 82]\n",
      "i vale  13\n",
      "j vale  0\n",
      "j vale  1\n",
      "j vale  2\n",
      "j vale  3\n",
      "j vale  4\n",
      "j vale  5\n",
      "j vale  6\n",
      "j vale  7\n",
      "j vale  8\n",
      "i vale  14\n",
      "j vale  0\n",
      "j vale  1\n",
      "j vale  2\n",
      "j vale  3\n",
      "j vale  4\n",
      "j vale  5\n",
      "j vale  6\n",
      "j vale  7\n",
      "i vale  15\n",
      "j vale  0\n",
      "j vale  1\n",
      "j vale  2\n",
      "j vale  3\n",
      "j vale  4\n",
      "j vale  5\n",
      "j vale  6\n",
      "i vale  16\n",
      "j vale  0\n",
      "j vale  1\n",
      "j vale  2\n",
      "j vale  3\n",
      "j vale  4\n",
      "j vale  5\n",
      "i vale  17\n",
      "j vale  0\n",
      "j vale  1\n",
      "j vale  2\n",
      "j vale  3\n",
      "j vale  4\n",
      "i vale  18\n",
      "j vale  0\n",
      "j vale  1\n",
      "j vale  2\n",
      "j vale  3\n",
      "i vale  19\n",
      "j vale  0\n",
      "j vale  1\n",
      "j vale  2\n",
      "i vale  20\n",
      "j vale  0\n",
      "j vale  1\n",
      "i vale  21\n",
      "j vale  0\n",
      "i vale  22\n",
      "[0, 1, 3, 4, 6, 7, 8, 10, 11, 12, 16, 17, 19, 21, 29, 30, 34, 39, 43, 56, 61, 67, 82]\n"
     ]
    }
   ],
   "source": [
    "print(bubble_sort(lista))"
   ]
  },
  {
   "cell_type": "markdown",
   "metadata": {},
   "source": [
    "Parece mágica! Mas não é. É a beleza da programação de computadores!"
   ]
  },
  {
   "cell_type": "code",
   "execution_count": 11,
   "metadata": {},
   "outputs": [],
   "source": [
    "lista2 = [60,17,28,3,10,19,4,1,0,61,17,30,16,17,82,29,34,43,21,3,11,39,56,67,12,28]"
   ]
  },
  {
   "cell_type": "code",
   "execution_count": 12,
   "metadata": {},
   "outputs": [
    {
     "name": "stdout",
     "output_type": "stream",
     "text": [
      "[0, 1, 3, 3, 4, 10, 11, 12, 16, 17, 17, 17, 19, 21, 28, 28, 29, 30, 34, 39, 43, 56, 60, 61, 67, 82]\n"
     ]
    }
   ],
   "source": [
    "print(bubble_sort(lista2))"
   ]
  },
  {
   "cell_type": "markdown",
   "metadata": {},
   "source": [
    "# Fim"
   ]
  },
  {
   "cell_type": "markdown",
   "metadata": {},
   "source": [
    "### Obrigado\n",
    "\n",
    "### Visite o Blog da Data Science Academy - <a href=\"http://blog.dsacademy.com.br\">Blog DSA</a>"
   ]
  }
 ],
 "metadata": {
  "anaconda-cloud": {},
  "kernelspec": {
   "display_name": "Python 3",
   "language": "python",
   "name": "python3"
  },
  "language_info": {
   "codemirror_mode": {
    "name": "ipython",
    "version": 3
   },
   "file_extension": ".py",
   "mimetype": "text/x-python",
   "name": "python",
   "nbconvert_exporter": "python",
   "pygments_lexer": "ipython3",
   "version": "3.9.13"
  }
 },
 "nbformat": 4,
 "nbformat_minor": 1
}
