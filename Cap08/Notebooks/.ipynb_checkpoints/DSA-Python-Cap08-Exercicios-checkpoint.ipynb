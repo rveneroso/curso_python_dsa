{
 "cells": [
  {
   "cell_type": "markdown",
   "metadata": {},
   "source": [
    "# <font color='blue'>Data Science Academy</font>\n",
    "\n",
    "## <font color='blue'>Fundamentos de Linguagem Python Para Análise de Dados e Data Science</font>\n",
    "\n",
    "## <font color='blue'>Introdução à Programação Orientada a Objetos</font>"
   ]
  },
  {
   "cell_type": "code",
   "execution_count": 1,
   "metadata": {},
   "outputs": [
    {
     "name": "stdout",
     "output_type": "stream",
     "text": [
      "Versão da Linguagem Python Usada Neste Jupyter Notebook: 3.9.13\n"
     ]
    }
   ],
   "source": [
    "# Versão da Linguagem Python\n",
    "from platform import python_version\n",
    "print('Versão da Linguagem Python Usada Neste Jupyter Notebook:', python_version())"
   ]
  },
  {
   "cell_type": "markdown",
   "metadata": {},
   "source": [
    "## Exercícios"
   ]
  },
  {
   "cell_type": "code",
   "execution_count": 2,
   "metadata": {},
   "outputs": [],
   "source": [
    "# Exercício 1 - Crie um objeto a partir da classe abaixo, chamado roc1, \n",
    "# passando 2 parâmetros e depois faça uma chamada aos atributos e métodos\n",
    "from math import sqrt\n",
    "\n",
    "class Rocket():\n",
    "     \n",
    "    def __init__(self, x=0, y=0):\n",
    "        self.x = x\n",
    "        self.y = y\n",
    "        \n",
    "    def move_rocket(self, x_increment=0, y_increment=1):\n",
    "        self.x += x_increment\n",
    "        self.y += y_increment\n",
    "        \n",
    "    def print_rocket(self):\n",
    "        print(self.x, self.y)\n",
    "        "
   ]
  },
  {
   "cell_type": "code",
   "execution_count": 79,
   "metadata": {},
   "outputs": [
    {
     "name": "stdout",
     "output_type": "stream",
     "text": [
      "Valor do atributo x  6\n",
      "Valor do atributo y  8\n",
      "16 26\n"
     ]
    }
   ],
   "source": [
    "rocket1 = Rocket(6,8)\n",
    "print('Valor do atributo x ',rocket1.x)\n",
    "print('Valor do atributo y ',rocket1.y)\n",
    "rocket1.move_rocket(10,18)\n",
    "rocket1.print_rocket()"
   ]
  },
  {
   "cell_type": "code",
   "execution_count": 58,
   "metadata": {},
   "outputs": [],
   "source": [
    "# Exercício 2 - Crie uma classe chamada Pessoa() com os atributos: nome, cidade, telefone e e-mail. Use pelo menos 2\n",
    "# métodos especiais na sua classe. Crie um objeto da sua classe e faça uma chamada a pelo menos um dos seus métodos\n",
    "# especiais.\n",
    "class Pessoa():\n",
    "    def __init__(self, nome, cidade, telefone, email):\n",
    "        self.nome = nome\n",
    "        self.cidade = cidade\n",
    "        self.telefone = telefone\n",
    "        self.email = email\n",
    "        \n",
    "    def show_details(self):\n",
    "        print('A pessoa %s mora na cidade %s, seu número de telefone é %s e seu endereço eletrônico é %s' %\n",
    "          (self.nome, self.cidade, self.format_phone_number(), self.email))\n",
    "\n",
    "    \n",
    "    def format_phone_number(self):\n",
    "        tamanho_telefone = len(self.telefone)\n",
    "        numtel = self.telefone\n",
    "        if tamanho_telefone == 0:\n",
    "            return 'Essa pessoa não possui número'\n",
    "        elif tamanho_telefone == 8:\n",
    "            return f'Telefone: {numtel}'\n",
    "        elif tamanho_telefone == 9:\n",
    "            return f'Telefone: {numtel[0]} {numtel[1:]}'\n",
    "        elif tamanho_telefone == 12:\n",
    "            return f'Telefone: {numtel[:2]} {numtel[3]} {numtel[4:]}'\n",
    "        elif tamanho_telefone == 11:\n",
    "            return f'Telefone: {numtel[:2]} {numtel[3:]}'\n",
    "        else:\n",
    "            return 'O número de telefone está em um formato inválido'\n"
   ]
  },
  {
   "cell_type": "code",
   "execution_count": 59,
   "metadata": {},
   "outputs": [],
   "source": [
    "p1 = Pessoa('Renato','Belo Horizonte','31 998041531','rveneroso@gmail.com')\n",
    "p2 = Pessoa('Ivan Piro','Transilvania','34281293','dracula@gmail.com')\n",
    "p3 = Pessoa('Osmar Telo', 'Piracicaba','782001371','tools@gmail.com')\n",
    "p4 = Pessoa('Vilma Madeira', 'Palmas','63 32285688','claps@gmail.com')"
   ]
  },
  {
   "cell_type": "code",
   "execution_count": 60,
   "metadata": {},
   "outputs": [
    {
     "name": "stdout",
     "output_type": "stream",
     "text": [
      "A pessoa Renato mora na cidade Belo Horizonte, seu número de telefone é Telefone: 31 9 98041531 e seu endereço eletrônico é rveneroso@gmail.com\n",
      "A pessoa Ivan Piro mora na cidade Transilvania, seu número de telefone é Telefone: 34281293 e seu endereço eletrônico é dracula@gmail.com\n",
      "A pessoa Osmar Telo mora na cidade Piracicaba, seu número de telefone é Telefone: 7 82001371 e seu endereço eletrônico é tools@gmail.com\n",
      "A pessoa Vilma Madeira mora na cidade Palmas, seu número de telefone é Telefone: 63 32285688 e seu endereço eletrônico é claps@gmail.com\n"
     ]
    }
   ],
   "source": [
    "p1.show_details()\n",
    "p2.show_details()\n",
    "p3.show_details()\n",
    "p4.show_details()"
   ]
  },
  {
   "cell_type": "code",
   "execution_count": 63,
   "metadata": {},
   "outputs": [],
   "source": [
    "# Exercício 3 - Crie a classe Smartphone com 2 atributos, tamanho e interface e crie a classe MP3Player com os \n",
    "# atributos capacidade. A classe MP3player deve herdar os atributos da classe Smartphone.\n",
    "class Smartphone:\n",
    "    def __init__(self,tamanho,interface):\n",
    "        self.tamanho = tamanho\n",
    "        self.interface = interface"
   ]
  },
  {
   "cell_type": "code",
   "execution_count": 81,
   "metadata": {},
   "outputs": [],
   "source": [
    "class MP3Player(Smartphone):\n",
    "    def __init__(self,tamanho,interface,capacidade):\n",
    "        Smartphone.__init__(self,tamanho,interface)\n",
    "        self.capacidade = capacidade\n",
    "    def print_mp3player(self):\n",
    "        print(\"Valores para o objeto criado: %s %s %s\"  %(self.tamanho, self.interface, self.capacidade))"
   ]
  },
  {
   "cell_type": "code",
   "execution_count": 82,
   "metadata": {},
   "outputs": [
    {
     "name": "stdout",
     "output_type": "stream",
     "text": [
      "Valores para o objeto criado: 5 Android 7 4GB\n"
     ]
    }
   ],
   "source": [
    "m23 = Smartphone(8,'Android')\n",
    "player1 = MP3Player(5,'Android 7','4GB')\n",
    "player1.print_mp3player()"
   ]
  },
  {
   "cell_type": "markdown",
   "metadata": {},
   "source": [
    "### FIM"
   ]
  },
  {
   "cell_type": "markdown",
   "metadata": {},
   "source": [
    "### Obrigado\n",
    "\n",
    "### Visite o Blog da Data Science Academy - <a href=\"http://blog.dsacademy.com.br\">Blog DSA</a>"
   ]
  }
 ],
 "metadata": {
  "kernelspec": {
   "display_name": "Python 3",
   "language": "python",
   "name": "python3"
  },
  "language_info": {
   "codemirror_mode": {
    "name": "ipython",
    "version": 3
   },
   "file_extension": ".py",
   "mimetype": "text/x-python",
   "name": "python",
   "nbconvert_exporter": "python",
   "pygments_lexer": "ipython3",
   "version": "3.9.13"
  }
 },
 "nbformat": 4,
 "nbformat_minor": 1
}
