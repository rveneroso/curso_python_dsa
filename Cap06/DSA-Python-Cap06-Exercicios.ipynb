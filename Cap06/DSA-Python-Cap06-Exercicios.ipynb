{
 "cells": [
  {
   "cell_type": "markdown",
   "metadata": {},
   "source": [
    "# <font color='blue'>Data Science Academy</font>\n",
    "\n",
    "## <font color='blue'>Fundamentos de Linguagem Python Para Análise de Dados e Data Science</font>\n",
    "\n",
    "## <font color='blue'>Capítulo 6 - Exercícios</font>"
   ]
  },
  {
   "cell_type": "code",
   "execution_count": null,
   "metadata": {},
   "outputs": [],
   "source": [
    "# Versão da Linguagem Python\n",
    "from platform import python_version\n",
    "print('Versão da Linguagem Python Usada Neste Jupyter Notebook:', python_version())"
   ]
  },
  {
   "cell_type": "markdown",
   "metadata": {},
   "source": [
    "## Exercícios "
   ]
  },
  {
   "cell_type": "code",
   "execution_count": 14,
   "metadata": {},
   "outputs": [
    {
     "name": "stdout",
     "output_type": "stream",
     "text": [
      "[27, 64, 125]\n",
      "[27, 64, 125]\n"
     ]
    }
   ],
   "source": [
    "# Exercício 1 - Crie uma lista de 3 elementos e calcule a terceira potência de cada elemento.\n",
    "def potencia(x):\n",
    "    return x ** 3\n",
    "list1 = [3,4,5]\n",
    "print(list(map(potencia, list1)))\n",
    "\n",
    "# Solução do instrutor (bem mais simples que a minha)\n",
    "quadrado = [item**3 for item in list1] \n",
    "print(quadrado)\n"
   ]
  },
  {
   "cell_type": "code",
   "execution_count": 2,
   "metadata": {},
   "outputs": [
    {
     "name": "stdout",
     "output_type": "stream",
     "text": [
      "['A', 'a', 1]\n",
      "['DATA', 'data', 4]\n",
      "['SCIENCE', 'science', 7]\n",
      "['ACADEMY', 'academy', 7]\n",
      "['OFERCE', 'oferce', 6]\n",
      "['OS', 'os', 2]\n",
      "['MELHORES', 'melhores', 8]\n",
      "['CURSOS', 'cursos', 6]\n",
      "['DE', 'de', 2]\n",
      "['ANÁLISE', 'análise', 7]\n",
      "['DE', 'de', 2]\n",
      "['DADOS', 'dados', 5]\n",
      "['DO', 'do', 2]\n",
      "['BRASIL.', 'brasil.', 7]\n"
     ]
    }
   ],
   "source": [
    "# Exercício 2 - Reescreva o código abaixo, usando a função map(). O resultado final deve ser o mesmo!\n",
    "palavras = 'A Data Science Academy oferce os melhores cursos de análise de dados do Brasil.'.split()\n",
    "resultado = [[w.upper(), w.lower(), len(w)] for w in palavras]\n",
    "for i in resultado:\n",
    "    print (i)"
   ]
  },
  {
   "cell_type": "code",
   "execution_count": 13,
   "metadata": {},
   "outputs": [
    {
     "name": "stdout",
     "output_type": "stream",
     "text": [
      "['A', 'a', 1]\n",
      "['DATA', 'data', 4]\n",
      "['SCIENCE', 'science', 7]\n",
      "['ACADEMY', 'academy', 7]\n",
      "['OFERCE', 'oferce', 6]\n",
      "['OS', 'os', 2]\n",
      "['MELHORES', 'melhores', 8]\n",
      "['CURSOS', 'cursos', 6]\n",
      "['DE', 'de', 2]\n",
      "['ANÁLISE', 'análise', 7]\n",
      "['DE', 'de', 2]\n",
      "['DADOS', 'dados', 5]\n",
      "['DO', 'do', 2]\n",
      "['BRASIL.', 'brasil.', 7]\n"
     ]
    }
   ],
   "source": [
    "# Solução\n",
    "def wordhandler(palavra):\n",
    "    return [palavra.upper(), palavra.lower(), len(palavra)]\n",
    "\n",
    "resultado = map(wordhandler, 'A Data Science Academy oferce os melhores cursos de análise de dados do Brasil.'.split())\n",
    "for item in resultado:\n",
    "    print(item)\n",
    "    \n",
    "# Solução do instrutor (usou lambda)\n",
    "resultado = map(lambda w: [w.upper(), w.lower(), len(w)], palavras)\n",
    "for i in resultado:\n",
    "    print (i)"
   ]
  },
  {
   "cell_type": "code",
   "execution_count": 18,
   "metadata": {},
   "outputs": [
    {
     "name": "stdout",
     "output_type": "stream",
     "text": [
      "A matrix transposta de  [[1, 2, 11], [3, 4, 12], [5, 6, 13], [7, 8, 14], [9, 10, 15]]  é  [[1, 3, 5, 7, 9], [2, 4, 6, 8, 10], [11, 12, 13, 14, 15]]\n",
      "Resultado obtido com a solução do instrutor  [[1, 3, 5, 7, 9], [2, 4, 6, 8, 10]]\n"
     ]
    }
   ],
   "source": [
    "# Exercício 3 - Calcule a matriz transposta da matriz abaixo.\n",
    "# Caso não saiba o que é matriz transposta, visite este link: https://pt.wikipedia.org/wiki/Matriz_transposta\n",
    "# Matriz transposta é um conceito fundamental na construção de redes neurais artificiais, base de sistemas de IA.\n",
    "# zip([1, 2], [3, 4], [5, 6], [7, 8])\n",
    "# O zip() agrupa os elementos de mesma posição em cada lista:\n",
    "\n",
    "# Posição\tResultado do zip\n",
    "# 0\t(1, 3, 5, 7)\n",
    "# 1\t(2, 4, 6, 8)\n",
    "def transpoe_matrix(matrix):\n",
    "    return [list(coluna) for coluna in zip(*matrix)]\n",
    "    \n",
    "matrix = [[1, 2, 11],[3,4, 12],[5,6,13],[7,8,14], [9,10,15]]\n",
    "print('A matrix transposta de ', matrix,' é ', transpoe_matrix(matrix))\n",
    "\n",
    "# Solução do instrutor. Só funciona quando cada item da matrix tiver 2 colunas. Se houver 3 ou mais, não funciona.\n",
    "transpose = [[row[i] for row in matrix] for i in range(2)]\n",
    "print('Resultado obtido com a solução do instrutor ',transpose)"
   ]
  },
  {
   "cell_type": "code",
   "execution_count": 19,
   "metadata": {},
   "outputs": [
    {
     "name": "stdout",
     "output_type": "stream",
     "text": [
      "[(0, 0), (1, 1), (4, 8), (9, 27), (16, 64)]\n",
      "[0, 0]\n",
      "[1, 1]\n",
      "[4, 8]\n",
      "[9, 27]\n",
      "[16, 64]\n"
     ]
    }
   ],
   "source": [
    "# Exercício 4 - Crie duas funções, uma para elevar um número ao quadrado e outra para elevar ao cubo. \n",
    "# Aplique as duas funções aos elementos da lista abaixo. \n",
    "# Obs: as duas funções devem ser aplicadas simultaneamente.\n",
    "def eleva_quadrado(numero):\n",
    "    return numero ** 2\n",
    "\n",
    "def eleva_cubo(numero):\n",
    "    return numero ** 3\n",
    "\n",
    "def eleva(numero):\n",
    "    return (eleva_quadrado(numero), eleva_cubo(numero))\n",
    "lista = [0, 1, 2, 3, 4]\n",
    "print(list(map(eleva, lista)))\n",
    "\n",
    "# Solução do instrutor.\n",
    "def square(x):\n",
    "        return (x**2)\n",
    "    \n",
    "def cube(x):\n",
    "        return (x**3)\n",
    "\n",
    "# A variável funcs contém os nomes das duas funções criadas anteriormente e pode ser chamada como se fosse uma\n",
    "# função criada com def.\n",
    "funcs = [square, cube]\n",
    "\n",
    "for i in lista:\n",
    "    valor = map(lambda x: x(i), funcs)\n",
    "    print(list((valor)))\n"
   ]
  },
  {
   "cell_type": "code",
   "execution_count": 25,
   "metadata": {},
   "outputs": [
    {
     "data": {
      "text/plain": [
       "[1024, 177147, 16777216]"
      ]
     },
     "execution_count": 25,
     "metadata": {},
     "output_type": "execute_result"
    }
   ],
   "source": [
    "# Exercício 5 - Abaixo você encontra duas listas. Faça com que cada elemento da listaA seja elevado \n",
    "# ao elemento correspondente na listaB.\n",
    "listaA = [2, 3, 4]\n",
    "listaB = [10, 11, 12]\n",
    "\n",
    "# Solução do instrutor (essa eu não fiz)\n",
    "potencia = (pow, listaA, listaB)\n",
    "# The line above is not executing anything yet — it's just creating a tuple containing three elements:\n",
    "# pow → the built-in Python function for exponentiation.\n",
    "# listaA → presumably a list of base values (e.g., [2, 3, 4]).\n",
    "# listaB → presumably a list of exponent values (e.g., [3, 2, 1]).\n",
    "list(map(pow, listaA, listaB))\n",
    "# In the above line:\n",
    "# pow is the function to apply.\n",
    "# listaA provides the base values.\n",
    "# listaB provides the exponents.\n",
    "# map pairs up the elements: pow(a1, b1), pow(a2, b2), ...\n"
   ]
  },
  {
   "cell_type": "code",
   "execution_count": 21,
   "metadata": {},
   "outputs": [
    {
     "data": {
      "text/plain": [
       "[-5, -4, -3, -2, -1]"
      ]
     },
     "execution_count": 21,
     "metadata": {},
     "output_type": "execute_result"
    }
   ],
   "source": [
    "# Exercício 6 - Considerando o range de valores abaixo, use a função filter() para retornar \n",
    "# apenas os valores negativos.\n",
    "range(-5, 5)\n",
    "list(filter(lambda x: x < 0, range(-5, 5)))\n",
    "\n",
    "# Solução do instrutor (igual à minha)\n",
    "list(filter((lambda x: x < 0), range(-5,5)))\n"
   ]
  },
  {
   "cell_type": "code",
   "execution_count": 27,
   "metadata": {},
   "outputs": [
    {
     "name": "stdout",
     "output_type": "stream",
     "text": [
      "[2, 3, 5, 7]\n",
      "[2, 3, 5, 7]\n"
     ]
    }
   ],
   "source": [
    "# Exercício 7 - Usando a função filter(), encontre os valores que são comuns às duas listas abaixo.\n",
    "a = [1,2,3,5,7,9]\n",
    "b = [2,3,5,6,7,8]   \n",
    "print(list(filter(lambda x: x in a, b)))\n",
    "\n",
    "# Solução do instrutor\n",
    "print (list(filter(lambda x: x in a, b)))\n"
   ]
  },
  {
   "cell_type": "code",
   "execution_count": 5,
   "metadata": {},
   "outputs": [
    {
     "name": "stdout",
     "output_type": "stream",
     "text": [
      "{'a': 4, 'b': 5}\n"
     ]
    }
   ],
   "source": [
    "# Exercício 8 - Considere os dois dicionários abaixo. \n",
    "# Crie um terceiro dicionário com as chaves do dicionário 1 e os valores do dicionário 2.\n",
    "dict1 = {'a':1,'b':2}\n",
    "dict2 = {'c':4,'d':5}\n",
    "dict3 = {}\n",
    "    \n",
    "for d1key, d2val in zip(dict1, dict2.values()):\n",
    "    dict3[d1key] = d2val\n",
    "print(dict3)\n",
    "\n",
    "# Solução do instrutor. Idêntica à minha, mas ele criou uma função.\n",
    "def trocaValores(d1, d2):\n",
    "    dicTemp = {}\n",
    "    \n",
    "    for d1key, d2val in zip(d1,d2.values()):\n",
    "        dicTemp[d1key] = d2val\n",
    "    \n",
    "    return dicTemp\n",
    "\n",
    "dict3 = trocaValores(dict1, dict2)\n",
    "print(dict3)\n"
   ]
  },
  {
   "cell_type": "code",
   "execution_count": 28,
   "metadata": {},
   "outputs": [
    {
     "name": "stdout",
     "output_type": "stream",
     "text": [
      "['g', 'h']\n",
      "g\n",
      "h\n"
     ]
    }
   ],
   "source": [
    "# Exercício 9 - Considere a lista abaixo e retorne apenas os elementos cujo índice for maior que 5.\n",
    "lista = ['a', 'b', 'c', 'd', 'e', 'f', 'g', 'h']\n",
    "enum = enumerate(lista)\n",
    "lista1 = [elemento for indice, elemento in enum if indice> 5]\n",
    "print(lista1)\n",
    "\n",
    "# Solução do instrutor\n",
    "for indice, valor in enumerate(lista):\n",
    "    if indice <= 5:\n",
    "        continue\n",
    "    else:\n",
    "        print (valor)"
   ]
  },
  {
   "cell_type": "code",
   "execution_count": 29,
   "metadata": {},
   "outputs": [
    {
     "name": "stdout",
     "output_type": "stream",
     "text": [
      "['Academy']\n",
      "A palavra após 'Data Science' é: Academy\n"
     ]
    }
   ],
   "source": [
    "# Exercício 10 - Crie um regex em Python para extrair a palavra que aparece depois das palavras \n",
    "# Data e Science na frase: 'A Data Science Academy oferce os melhores cursos de análise de dados do Brasil.'\n",
    "import re\n",
    "texto = 'A Data Science Academy oferece os melhores cursos de análise de dados do Brasil.'\n",
    "padrao = r'\\bData Science\\s+(\\w+)'\n",
    "resultados = re.findall(padrao, texto)\n",
    "print(resultados)\n",
    "\n",
    "# Solução do instrutor. Ele retorna tudo o que vem depois de 'Data Science' e pega então a primeira posição\n",
    "# dentro do resultado.\n",
    "resultado = re.findall(r'Data Science (\\w+)', texto)\n",
    "print(\"A palavra após 'Data Science' é:\", resultado[0])\n"
   ]
  },
  {
   "cell_type": "markdown",
   "metadata": {},
   "source": [
    "# Fim"
   ]
  },
  {
   "cell_type": "markdown",
   "metadata": {},
   "source": [
    "### Obrigado\n",
    "\n",
    "### Visite o Blog da Data Science Academy - <a href=\"http://blog.dsacademy.com.br\">Blog DSA</a>"
   ]
  }
 ],
 "metadata": {
  "kernelspec": {
   "display_name": "Python 3",
   "language": "python",
   "name": "python3"
  },
  "language_info": {
   "codemirror_mode": {
    "name": "ipython",
    "version": 3
   },
   "file_extension": ".py",
   "mimetype": "text/x-python",
   "name": "python",
   "nbconvert_exporter": "python",
   "pygments_lexer": "ipython3",
   "version": "3.9.13"
  }
 },
 "nbformat": 4,
 "nbformat_minor": 1
}
